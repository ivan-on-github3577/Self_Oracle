{
  "nbformat": 4,
  "nbformat_minor": 0,
  "metadata": {
    "colab": {
      "provenance": []
    },
    "kernelspec": {
      "name": "python3",
      "display_name": "Python 3"
    },
    "language_info": {
      "name": "python"
    }
  },
  "cells": [
    {
      "cell_type": "markdown",
      "source": [
        "Программа Self Oracle. Исходя из математической формулы S = d² / 4 * π, где S = площадь окружности, d = диаметр окружности, π = число Пи, предсказывает обалдевание от учёбы путём генерации случайным образом площади окружности зрачка и вычислением из этой площади диаметра зрачка, который говорит о размере зрачка и следовательно степени обалдевания."
      ],
      "metadata": {
        "id": "S8jmb1z6izvG"
      }
    },
    {
      "cell_type": "code",
      "source": [
        "import random\n",
        "from math import sqrt"
      ],
      "metadata": {
        "id": "95v8yEE7iyIu"
      },
      "execution_count": 1,
      "outputs": []
    },
    {
      "cell_type": "code",
      "execution_count": 2,
      "metadata": {
        "colab": {
          "base_uri": "https://localhost:8080/"
        },
        "id": "bvPfOcKtMGq3",
        "outputId": "9a44338c-6503-41f5-a14d-6fe3c740229b"
      },
      "outputs": [
        {
          "output_type": "stream",
          "name": "stdout",
          "text": [
            "Программа \"Self Oracle\" приветствует тебя.\n",
            "Узнай, насколько ты обалдеешь от обучения сегодня.\n",
            "Введи сегодняшнее число: 21.01.23\n",
            "Сегодня ты опять обалдеешь! Зрачки расширятся и разведутся в разные стороны %)\n"
          ]
        }
      ],
      "source": [
        "d = float(0)\n",
        "S = float(0)\n",
        "S = random.uniform(0.95, 50.24)\n",
        "print('Программа \"Self Oracle\" приветствует тебя.')\n",
        "print('Узнай, насколько ты обалдеешь от обучения сегодня.')\n",
        "input('Введи сегодняшнее число: ')\n",
        "d = sqrt(((S / 3.14) * 4))\n",
        "if 1.10 <= d < 4.55:\n",
        "  print('Сегодня ты не обалдеешь, зрачки не расширятся.')\n",
        "elif 4.55 < d <= 8.00:\n",
        "  print('Сегодня ты опять обалдеешь! Зрачки расширятся и разведутся в разные стороны %)')\n",
        "else:\n",
        "  print('Сегодня будет в меру рабочая атмосфера.')"
      ]
    }
  ]
}